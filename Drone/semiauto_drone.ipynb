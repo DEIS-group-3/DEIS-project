{
 "cells": [
  {
   "cell_type": "code",
   "execution_count": null,
   "metadata": {},
   "outputs": [],
   "source": [
    "import time\n",
    "import cv2 as cv\n",
    "from easytello import tello\n",
    "from tkinter import*\n",
    "import keyboard\n",
    "\n",
    "my_drone = tello.Tello()"
   ]
  },
  {
   "cell_type": "code",
   "execution_count": null,
   "metadata": {},
   "outputs": [],
   "source": [
    "def Semiauto1():\n",
    "    my_drone.takeoff()\n",
    "    my_drone.forward(30)\n",
    "    my_drone.forward(30)\n",
    "    my_drone.up(30)\n",
    "    my_drone.right(30)\n",
    "    my_drone.right(30)\n",
    "    my_drone.cw(15)\n",
    "    my_drone.flip(15)\n",
    "    my_drone.land()\n",
    "    \n",
    "def Semiauto2():\n",
    "    my_drone.takeoff()\n",
    "    my_drone.forward(30)\n",
    "    my_drone.forward(30)\n",
    "    my_drone.up(30)\n",
    "    my_drone.left(30)\n",
    "    my_drone.left(30)\n",
    "    my_drone.cw(15)\n",
    "    my_drone.flip(15)\n",
    "    my_drone.land()\n",
    "    \n",
    "def Semiauto3():\n",
    "    my_drone.takeoff()\n",
    "    my_drone.forward(30)\n",
    "    my_drone.flip(15)\n",
    "    my_drone.back(30)\n",
    "    my_drone.flip(15)\n",
    "    my_drone.cw(15)\n",
    "    my_drone.ccw(15) \n",
    "    my_drone.land()\n",
    "    \n",
    "    "
   ]
  },
  {
   "cell_type": "code",
   "execution_count": null,
   "metadata": {},
   "outputs": [],
   "source": [
    "Semiauto3()"
   ]
  }
 ],
 "metadata": {
  "kernelspec": {
   "display_name": "Python 3",
   "language": "python",
   "name": "python3"
  },
  "language_info": {
   "codemirror_mode": {
    "name": "ipython",
    "version": 3
   },
   "file_extension": ".py",
   "mimetype": "text/x-python",
   "name": "python",
   "nbconvert_exporter": "python",
   "pygments_lexer": "ipython3",
   "version": "3.7.3"
  }
 },
 "nbformat": 4,
 "nbformat_minor": 2
}
